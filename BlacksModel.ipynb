{
  "nbformat": 4,
  "nbformat_minor": 0,
  "metadata": {
    "colab": {
      "provenance": [],
      "authorship_tag": "ABX9TyOPeHglg1XKw5EKOZG8F3X7"
    },
    "kernelspec": {
      "name": "python3",
      "display_name": "Python 3"
    },
    "language_info": {
      "name": "python"
    }
  },
  "cells": [
    {
      "cell_type": "markdown",
      "source": [
        "# **Using Black's Model to Value Futures Options**"
      ],
      "metadata": {
        "id": "EgZh4BddYAQe"
      }
    },
    {
      "cell_type": "markdown",
      "source": [
        "#### **Author: Zachary Wright, CFA, FRM | Last Updated: 02/12/25**"
      ],
      "metadata": {
        "id": "8im6eaOHYFVY"
      }
    },
    {
      "cell_type": "markdown",
      "source": [
        "**Overview:** In this project, I use Options, Futures, and Other Derivatives by Hull as a reference to value futures options with Black's Model (also known as Black-76) in Python. Note that while certain libraries may streamline functionality, I am attempting to develop much of the functionality myself.\n",
        "\n",
        "Black's Model is derived from:\n",
        "1.   Itô’s Lemma\n",
        "2.   Black-Scholes PDE\n",
        "\n"
      ],
      "metadata": {
        "id": "5_iisLFXYSsn"
      }
    },
    {
      "cell_type": "markdown",
      "source": [
        "**Planned Updates:**\n",
        "- Option class and methods\n",
        "- Sensitivity and scenario analysis"
      ],
      "metadata": {
        "id": "RmSWZnWUmrNf"
      }
    },
    {
      "cell_type": "markdown",
      "source": [
        "**Latest Changes:**\n",
        "* Added user input functionality to set variables with exception handling"
      ],
      "metadata": {
        "id": "c1LYnaqzc2ww"
      }
    },
    {
      "cell_type": "markdown",
      "source": [
        "**Libraries Used:**\n",
        "- Numpy\n",
        "- SciPy"
      ],
      "metadata": {
        "id": "yxpKTdIFmxl3"
      }
    },
    {
      "cell_type": "markdown",
      "source": [
        "---"
      ],
      "metadata": {
        "id": "Yz4iOEwTb0o3"
      }
    },
    {
      "cell_type": "code",
      "source": [
        "import numpy as np\n",
        "from scipy.stats import norm"
      ],
      "metadata": {
        "id": "6C00B_WuYScM"
      },
      "execution_count": 8,
      "outputs": []
    },
    {
      "cell_type": "markdown",
      "source": [
        "Setting variables through user input:"
      ],
      "metadata": {
        "id": "__TtMYl8Gx2M"
      }
    },
    {
      "cell_type": "code",
      "source": [
        "try:\n",
        "  volatility = float(input(\"Enter volatility per annum: \"))\n",
        "  rfr = float(input(\"Enter the risk-free rate: \"))\n",
        "  strike = float(input(\"Enter strike price: \"))\n",
        "  futures_price = float(input(\"Enter the futures price: \"))\n",
        "  time = float(input(\"Enter the time to contract expiration (fractions of a year): \"))\n",
        "  print(\"\\nVariables set successfully.\\n\")\n",
        "except ValueError:\n",
        "  print(\"\\n Values must be numbers and in decimal form.\\n\")"
      ],
      "metadata": {
        "id": "Ei9l67RgKyNc",
        "colab": {
          "base_uri": "https://localhost:8080/"
        },
        "outputId": "ce5f0394-722e-4f68-b995-a1712944673c"
      },
      "execution_count": 10,
      "outputs": [
        {
          "output_type": "stream",
          "name": "stdout",
          "text": [
            "Enter volatility per annum: .25\n",
            "Enter the risk-free rate: .0425\n",
            "Enter strike price: 25\n",
            "Enter the futures price: 20\n",
            "Enter the time to contract expiration (fractions of a year): .4\n",
            "\n",
            "Variables set successfully.\n",
            "\n"
          ]
        }
      ]
    },
    {
      "cell_type": "markdown",
      "source": [
        "Calculating d1 and d2:"
      ],
      "metadata": {
        "id": "ZPWUAxlYMuF8"
      }
    },
    {
      "cell_type": "code",
      "source": [
        "d1 = ((np.log(futures_price / strike) + ((volatility**2) * (time/2))))/(volatility*np.sqrt(time))\n",
        "d2 = ((np.log(futures_price / strike) - ((volatility**2) * (time/2))))/(volatility*np.sqrt(time))\n",
        "\n",
        "print(\"d1: \",d1)\n",
        "print(\"d2: \",d2)"
      ],
      "metadata": {
        "colab": {
          "base_uri": "https://localhost:8080/"
        },
        "id": "hBEwFox_GzFT",
        "outputId": "b30d3be0-814c-4620-92b5-d80e5420869e"
      },
      "execution_count": 11,
      "outputs": [
        {
          "output_type": "stream",
          "name": "stdout",
          "text": [
            "d1:  -1.332226793158914\n",
            "d2:  -1.490340676167333\n"
          ]
        }
      ]
    },
    {
      "cell_type": "code",
      "source": [
        "c = (np.exp(-rfr*time))*((futures_price*norm.cdf(d1)) - (strike*norm.cdf(d2)))\n",
        "p = (np.exp(-rfr*time))*((strike*norm.cdf(-1*d2)) - (futures_price*norm.cdf(-1*d1)))\n",
        "\n",
        "print(\"Options Price: \\n\", \"Call: \", c, \"\\n\", \"Put: \", p , \"\\n\")"
      ],
      "metadata": {
        "id": "0a5OWDtKJfK7",
        "colab": {
          "base_uri": "https://localhost:8080/"
        },
        "outputId": "73dcbb7e-c7f7-44c4-93e2-37497429eea2"
      },
      "execution_count": 12,
      "outputs": [
        {
          "output_type": "stream",
          "name": "stdout",
          "text": [
            "Options Price: \n",
            " Call:  0.12404640255171569 \n",
            " Put:  5.039764825726262 \n",
            "\n"
          ]
        }
      ]
    },
    {
      "cell_type": "markdown",
      "source": [
        "Since this is functionality we may want to consider for multiple different futures options, I will create an Options class to get individual call and put option prices. We will be able to set volatility, strike price, futures price, and time to expiration for each. I will also incorporate methods to get the Greeks of each \"FuturesOption\" object."
      ],
      "metadata": {
        "id": "2V5zn0sZx1js"
      }
    },
    {
      "cell_type": "code",
      "source": [
        "class FuturesOption:\n",
        "  def __init__(self,volatility,strike,futures_price,time):\n",
        "    self.volatility = volatility\n",
        "    self.strike = strike\n",
        "    self.futures_price = futures_price\n",
        "    self.time = time\n",
        "\n",
        "  def get_call_price(self):\n",
        "    c = (np.exp(-rfr*time))*((futures_price*norm.cdf(d1)) - (strike*norm.cdf(d2)))\n",
        "    return c\n",
        "\n",
        "  def get_put_price(self):\n",
        "    p = (np.exp(-rfr*time))*((strike*norm.cdf(-1*d2)) - (futures_price*norm.cdf(-1*d1)))\n",
        "    return p\n",
        "\n",
        "  def get_delta(self):\n",
        "    return None\n",
        "\n",
        "  def get_gamma(self):\n",
        "    return None\n",
        "\n",
        "  def get_rho(self):\n",
        "    return None\n",
        "\n",
        "  def get_theta(self):\n",
        "    return None\n",
        "\n",
        "  def get_vega(self):\n",
        "    return None"
      ],
      "metadata": {
        "id": "_YQ9Ndz7yQ1d"
      },
      "execution_count": 28,
      "outputs": []
    },
    {
      "cell_type": "code",
      "source": [
        "some_option = FuturesOption(.20,20,25,.4)\n",
        "some_option.get_put_price()"
      ],
      "metadata": {
        "colab": {
          "base_uri": "https://localhost:8080/"
        },
        "id": "PO2CxaYM09hV",
        "outputId": "0ee3ebac-b3f7-40d5-ab3a-df88e68ead63"
      },
      "execution_count": 31,
      "outputs": [
        {
          "output_type": "execute_result",
          "data": {
            "text/plain": [
              "5.039764825726262"
            ]
          },
          "metadata": {},
          "execution_count": 31
        }
      ]
    }
  ]
}