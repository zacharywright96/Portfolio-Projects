{
  "nbformat": 4,
  "nbformat_minor": 0,
  "metadata": {
    "colab": {
      "provenance": []
    },
    "kernelspec": {
      "name": "python3",
      "display_name": "Python 3"
    },
    "language_info": {
      "name": "python"
    }
  },
  "cells": [
    {
      "cell_type": "markdown",
      "source": [
        "## **Using Black's Model to Value Futures Options**"
      ],
      "metadata": {
        "id": "EgZh4BddYAQe"
      }
    },
    {
      "cell_type": "markdown",
      "source": [
        "#### Author: Zachary Wright, CFA, FRM"
      ],
      "metadata": {
        "id": "_UdlVKLZYAD_"
      }
    },
    {
      "cell_type": "markdown",
      "source": [
        "<br> Last Updated: 02/09/25 </br>\n",
        "Latest Change Notes:\n",
        "* Started project"
      ],
      "metadata": {
        "id": "8im6eaOHYFVY"
      }
    },
    {
      "cell_type": "markdown",
      "source": [
        "In this project, I use Options, Futures, and Other Derivates by Hull as a reference to value futures options with Black's Model in Python."
      ],
      "metadata": {
        "id": "5_iisLFXYSsn"
      }
    },
    {
      "cell_type": "markdown",
      "source": [
        "---"
      ],
      "metadata": {
        "id": "Yz4iOEwTb0o3"
      }
    },
    {
      "cell_type": "code",
      "source": [],
      "metadata": {
        "id": "6C00B_WuYScM"
      },
      "execution_count": null,
      "outputs": []
    }
  ]
}