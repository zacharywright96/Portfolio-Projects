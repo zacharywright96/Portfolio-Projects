{
  "nbformat": 4,
  "nbformat_minor": 0,
  "metadata": {
    "colab": {
      "provenance": [],
      "authorship_tag": "ABX9TyN/KFKavGtgt8DCgnKnScXe"
    },
    "kernelspec": {
      "name": "python3",
      "display_name": "Python 3"
    },
    "language_info": {
      "name": "python"
    }
  },
  "cells": [
    {
      "cell_type": "markdown",
      "source": [
        "# **Using Black's Model to Value Futures Options**"
      ],
      "metadata": {
        "id": "EgZh4BddYAQe"
      }
    },
    {
      "cell_type": "markdown",
      "source": [
        "#### **Author: Zachary Wright, CFA, FRM | Last Updated: 02/12/25**"
      ],
      "metadata": {
        "id": "8im6eaOHYFVY"
      }
    },
    {
      "cell_type": "markdown",
      "source": [
        "**Overview:** In this project, I use Options, Futures, and Other Derivatives by Hull as a reference to value futures options with Black's Model (also known as Black-76) in Python.\n",
        "This is derived from:\n",
        "\n",
        "1.   Itô’s Lemma\n",
        "2.   Black-Scholes PDE\n",
        "\n"
      ],
      "metadata": {
        "id": "5_iisLFXYSsn"
      }
    },
    {
      "cell_type": "markdown",
      "source": [
        "**Planned Updates:**\n",
        "-Custom inputs"
      ],
      "metadata": {
        "id": "RmSWZnWUmrNf"
      }
    },
    {
      "cell_type": "markdown",
      "source": [
        "**Latest Changes:**\n",
        "* Started project"
      ],
      "metadata": {
        "id": "c1LYnaqzc2ww"
      }
    },
    {
      "cell_type": "markdown",
      "source": [
        "**Libraries Used:**\n",
        "- Numpy\n",
        "- SciPy"
      ],
      "metadata": {
        "id": "yxpKTdIFmxl3"
      }
    },
    {
      "cell_type": "markdown",
      "source": [
        "---"
      ],
      "metadata": {
        "id": "Yz4iOEwTb0o3"
      }
    },
    {
      "cell_type": "code",
      "source": [
        "import numpy as np\n",
        "from scipy.stats import norm"
      ],
      "metadata": {
        "id": "6C00B_WuYScM"
      },
      "execution_count": 3,
      "outputs": []
    },
    {
      "cell_type": "markdown",
      "source": [
        "Setting variables:"
      ],
      "metadata": {
        "id": "__TtMYl8Gx2M"
      }
    },
    {
      "cell_type": "code",
      "source": [
        "try:\n",
        "  volatility = float(input(\"Enter volatility per annum: \"))\n",
        "  rfr = float(input(\"Enter the risk-free rate: \"))\n",
        "  strike = float(input(\"Enter strike price: \"))\n",
        "  futures_price = float(input(\"Enter the futures price: \"))\n",
        "  time = float(input(\"Enter the time to contract settlement (fractions of a year): \"))\n",
        "except:\n",
        "  raise ValueError"
      ],
      "metadata": {
        "id": "Ei9l67RgKyNc",
        "colab": {
          "base_uri": "https://localhost:8080/",
          "height": 367
        },
        "outputId": "435123f4-4111-4f97-8fbc-ec9ba2b54adc"
      },
      "execution_count": 9,
      "outputs": [
        {
          "name": "stdout",
          "output_type": "stream",
          "text": [
            "Enter volatility per annum: all\n"
          ]
        },
        {
          "output_type": "error",
          "ename": "ValueError",
          "evalue": "",
          "traceback": [
            "\u001b[0;31m---------------------------------------------------------------------------\u001b[0m",
            "\u001b[0;31mValueError\u001b[0m                                Traceback (most recent call last)",
            "\u001b[0;32m<ipython-input-9-0f55f1ce6529>\u001b[0m in \u001b[0;36m<cell line: 0>\u001b[0;34m()\u001b[0m\n\u001b[1;32m      1\u001b[0m \u001b[0;32mtry\u001b[0m\u001b[0;34m:\u001b[0m\u001b[0;34m\u001b[0m\u001b[0;34m\u001b[0m\u001b[0m\n\u001b[0;32m----> 2\u001b[0;31m   \u001b[0mvolatility\u001b[0m \u001b[0;34m=\u001b[0m \u001b[0mfloat\u001b[0m\u001b[0;34m(\u001b[0m\u001b[0minput\u001b[0m\u001b[0;34m(\u001b[0m\u001b[0;34m\"Enter volatility per annum: \"\u001b[0m\u001b[0;34m)\u001b[0m\u001b[0;34m)\u001b[0m\u001b[0;34m\u001b[0m\u001b[0;34m\u001b[0m\u001b[0m\n\u001b[0m\u001b[1;32m      3\u001b[0m   \u001b[0mrfr\u001b[0m \u001b[0;34m=\u001b[0m \u001b[0mfloat\u001b[0m\u001b[0;34m(\u001b[0m\u001b[0minput\u001b[0m\u001b[0;34m(\u001b[0m\u001b[0;34m\"Enter the risk-free rate: \"\u001b[0m\u001b[0;34m)\u001b[0m\u001b[0;34m)\u001b[0m\u001b[0;34m\u001b[0m\u001b[0;34m\u001b[0m\u001b[0m\n",
            "\u001b[0;31mValueError\u001b[0m: could not convert string to float: 'all'",
            "\nDuring handling of the above exception, another exception occurred:\n",
            "\u001b[0;31mValueError\u001b[0m                                Traceback (most recent call last)",
            "\u001b[0;32m<ipython-input-9-0f55f1ce6529>\u001b[0m in \u001b[0;36m<cell line: 0>\u001b[0;34m()\u001b[0m\n\u001b[1;32m      6\u001b[0m   \u001b[0mtime\u001b[0m \u001b[0;34m=\u001b[0m \u001b[0mfloat\u001b[0m\u001b[0;34m(\u001b[0m\u001b[0minput\u001b[0m\u001b[0;34m(\u001b[0m\u001b[0;34m\"Enter the time to contract settlement (fractions of a year): \"\u001b[0m\u001b[0;34m)\u001b[0m\u001b[0;34m)\u001b[0m\u001b[0;34m\u001b[0m\u001b[0;34m\u001b[0m\u001b[0m\n\u001b[1;32m      7\u001b[0m \u001b[0;32mexcept\u001b[0m\u001b[0;34m:\u001b[0m\u001b[0;34m\u001b[0m\u001b[0;34m\u001b[0m\u001b[0m\n\u001b[0;32m----> 8\u001b[0;31m   \u001b[0;32mraise\u001b[0m \u001b[0mValueError\u001b[0m\u001b[0;34m\u001b[0m\u001b[0;34m\u001b[0m\u001b[0m\n\u001b[0m",
            "\u001b[0;31mValueError\u001b[0m: "
          ]
        }
      ]
    },
    {
      "cell_type": "markdown",
      "source": [
        "Calculating d1 and d2:"
      ],
      "metadata": {
        "id": "ZPWUAxlYMuF8"
      }
    },
    {
      "cell_type": "code",
      "source": [
        "d1 = ((np.log(futures_price / strike) + ((volatility**2) * (time/2))))/(volatility*np.sqrt(time))\n",
        "d2 = ((np.log(futures_price / strike) - ((volatility**2) * (time/2))))/(volatility*np.sqrt(time))\n",
        "\n",
        "print(\"d1: \",d1)\n",
        "print(\"d2: \",d2)"
      ],
      "metadata": {
        "colab": {
          "base_uri": "https://localhost:8080/"
        },
        "id": "hBEwFox_GzFT",
        "outputId": "eb1b5339-6502-4456-f837-54238c724646"
      },
      "execution_count": 7,
      "outputs": [
        {
          "output_type": "stream",
          "name": "stdout",
          "text": [
            "d1:  1.6980754079095357\n",
            "d2:  1.5611447685332442\n"
          ]
        }
      ]
    },
    {
      "cell_type": "code",
      "source": [
        "c = (np.exp(-rfr*time))*((futures_price*norm.cdf(d1)) - (strike*norm.cdf(d2)))\n",
        "p = (np.exp(-rfr*time))*((strike*norm.cdf(-1*d2)) - (futures_price*norm.cdf(-1*d1)))\n",
        "\n",
        "print(\"Options Price: \\n\", \"Call: \", c, \"\\n\", \"Put: \", p , \"\\n\")"
      ],
      "metadata": {
        "id": "0a5OWDtKJfK7",
        "colab": {
          "base_uri": "https://localhost:8080/"
        },
        "outputId": "f70cf408-e939-44e0-b786-7245f01c2163"
      },
      "execution_count": 8,
      "outputs": [
        {
          "output_type": "stream",
          "name": "stdout",
          "text": [
            "Options Price: \n",
            " Call:  4.459766131994442 \n",
            " Put:  0.05829905282333471 \n",
            "\n"
          ]
        }
      ]
    }
  ]
}