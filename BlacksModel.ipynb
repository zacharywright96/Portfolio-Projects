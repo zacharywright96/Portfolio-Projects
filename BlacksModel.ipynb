{
  "nbformat": 4,
  "nbformat_minor": 0,
  "metadata": {
    "colab": {
      "provenance": [],
      "authorship_tag": "ABX9TyNhlSl89OJB9sTyMXGzugqU"
    },
    "kernelspec": {
      "name": "python3",
      "display_name": "Python 3"
    },
    "language_info": {
      "name": "python"
    }
  },
  "cells": [
    {
      "cell_type": "markdown",
      "source": [
        "# **Using Black's Model to Value Futures Options**"
      ],
      "metadata": {
        "id": "EgZh4BddYAQe"
      }
    },
    {
      "cell_type": "markdown",
      "source": [
        "#### **Author: Zachary Wright, CFA, FRM | Last Updated: 02/12/25**"
      ],
      "metadata": {
        "id": "8im6eaOHYFVY"
      }
    },
    {
      "cell_type": "markdown",
      "source": [
        "**Overview:** In this project, I use Options, Futures, and Other Derivatives by Hull as a reference to value futures options with Black's Model (also known as Black-76) in Python. Note that while certain libraries may streamline functionality, I am attempting to develop much of the functionality myself.\n",
        "\n",
        "Black's Model is derived from:\n",
        "1.   Itô’s Lemma, which is used to describe the stochastic process of the futures price\n",
        "2.   A modified Black-Scholes Partial Differential Equation, where the dividend yield equals the risk-free rate, adjusting for the fact that futures have no cost of carry\n",
        "\n"
      ],
      "metadata": {
        "id": "5_iisLFXYSsn"
      }
    },
    {
      "cell_type": "markdown",
      "source": [
        "**Planned Updates:**\n",
        "- Option class and methods\n",
        "- Sensitivity and scenario analysis\n",
        "- Backtesting\n",
        "- Metric visualizations"
      ],
      "metadata": {
        "id": "RmSWZnWUmrNf"
      }
    },
    {
      "cell_type": "markdown",
      "source": [
        "**Latest Changes:**\n",
        "* Added user input functionality to set variables with exception handling and started class and method definition"
      ],
      "metadata": {
        "id": "c1LYnaqzc2ww"
      }
    },
    {
      "cell_type": "markdown",
      "source": [
        "**Libraries Used:**\n",
        "- Numpy\n",
        "- SciPy\n",
        "- Matplotlib"
      ],
      "metadata": {
        "id": "yxpKTdIFmxl3"
      }
    },
    {
      "cell_type": "markdown",
      "source": [
        "---"
      ],
      "metadata": {
        "id": "Yz4iOEwTb0o3"
      }
    },
    {
      "cell_type": "code",
      "source": [
        "import numpy as np\n",
        "from scipy.stats import norm\n",
        "import matplotlib.pyplot as plt"
      ],
      "metadata": {
        "id": "6C00B_WuYScM"
      },
      "execution_count": null,
      "outputs": []
    },
    {
      "cell_type": "markdown",
      "source": [
        "Setting variables through user input:"
      ],
      "metadata": {
        "id": "__TtMYl8Gx2M"
      }
    },
    {
      "cell_type": "code",
      "source": [
        "try:\n",
        "  volatility = float(input(\"Enter volatility per annum: \"))\n",
        "  rfr = float(input(\"Enter the risk-free rate per annum: \"))\n",
        "  strike = float(input(\"Enter strike price: \"))\n",
        "  futures_price = float(input(\"Enter the futures price: \"))\n",
        "  time = float(input(\"Enter the time to contract expiration (fractions of a year): \"))\n",
        "  print(\"\\nVariables set successfully.\\n\")\n",
        "except ValueError:\n",
        "  print(\"\\n Values must be numbers and in decimal form.\\n\")"
      ],
      "metadata": {
        "id": "Ei9l67RgKyNc",
        "colab": {
          "base_uri": "https://localhost:8080/"
        },
        "outputId": "7b38b96f-6cd4-4571-8546-c67395431331"
      },
      "execution_count": null,
      "outputs": [
        {
          "output_type": "stream",
          "name": "stdout",
          "text": [
            "Enter volatility per annum: .25\n",
            "Enter the risk-free rate per annum: .0433\n",
            "Enter strike price: 20\n",
            "Enter the futures price: 25\n",
            "Enter the time to contract expiration (fractions of a year): .4\n",
            "\n",
            "Variables set successfully.\n",
            "\n"
          ]
        }
      ]
    },
    {
      "cell_type": "markdown",
      "source": [
        "Calculating `d1` and `d2`:"
      ],
      "metadata": {
        "id": "ZPWUAxlYMuF8"
      }
    },
    {
      "cell_type": "code",
      "source": [
        "d1 = ((np.log(futures_price / strike) + ((volatility**2) * (time/2))))/(volatility*np.sqrt(time))\n",
        "d2 = ((np.log(futures_price / strike) - ((volatility**2) * (time/2))))/(volatility*np.sqrt(time))\n",
        "\n",
        "print(\"d1: \",d1)\n",
        "print(\"d2: \",d2)"
      ],
      "metadata": {
        "colab": {
          "base_uri": "https://localhost:8080/"
        },
        "id": "hBEwFox_GzFT",
        "outputId": "1c90ae16-0b66-4156-89c2-191bbf639b0b"
      },
      "execution_count": null,
      "outputs": [
        {
          "output_type": "stream",
          "name": "stdout",
          "text": [
            "d1:  1.4903406761673335\n",
            "d2:  1.3322267931589142\n"
          ]
        }
      ]
    },
    {
      "cell_type": "code",
      "source": [
        "c = (np.exp(-rfr*time))*((futures_price*norm.cdf(d1)) - (strike*norm.cdf(d2)))\n",
        "p = (np.exp(-rfr*time))*((strike*norm.cdf(-1*d2)) - (futures_price*norm.cdf(-1*d1)))\n",
        "\n",
        "print(\"Options Price: \\n\", \"Call: \", c, \"\\n\", \"Put: \", p , \"\\n\")"
      ],
      "metadata": {
        "id": "0a5OWDtKJfK7",
        "colab": {
          "base_uri": "https://localhost:8080/"
        },
        "outputId": "8553bb86-e474-4513-96fa-2eab601935f1"
      },
      "execution_count": null,
      "outputs": [
        {
          "output_type": "stream",
          "name": "stdout",
          "text": [
            "Options Price: \n",
            " Call:  5.038152358990471 \n",
            " Put:  0.12400671405339797 \n",
            "\n"
          ]
        }
      ]
    },
    {
      "cell_type": "markdown",
      "source": [
        "Since this is functionality we may want to consider for multiple different futures options, I will create an Options class to get individual call and put option prices. We will be able to set volatility, strike price, futures price, risk-free rates, and time to expiration for each. I will also incorporate methods to get the Greeks of each `FuturesOption` object."
      ],
      "metadata": {
        "id": "2V5zn0sZx1js"
      }
    },
    {
      "cell_type": "code",
      "source": [
        "class FuturesOption:\n",
        "  def __init__(self,volatility,strike,futures_price,rfr,time):\n",
        "    self.volatility = volatility\n",
        "    self.strike = strike\n",
        "    self.futures_price = futures_price\n",
        "    self.rfr = rfr\n",
        "    self.time = time\n",
        "\n",
        "  def compute_d1_d2(self):\n",
        "      self.d1 = (np.log(self.futures_price / self.strike) + (self.volatility**2 * self.time / 2)) / (self.volatility * np.sqrt(self.time))\n",
        "      self.d2 = self.d1 - self.volatility * np.sqrt(self.time)\n",
        "\n",
        "  def get_call_price(self):\n",
        "    self.compute_d1_d2()\n",
        "    return (np.exp(-self.rfr*self.time))*((self.futures_price*norm.cdf(self.d1)) - (self.strike*norm.cdf(self.d2)))\n",
        "\n",
        "  def get_put_price(self):\n",
        "    self.compute_d1_d2()\n",
        "    return (np.exp(-self.rfr*self.time))*((self.strike*norm.cdf(-1*self.d2)) - (self.futures_price*norm.cdf(-1*self.d1)))\n",
        "\n",
        "  def get_delta(self):\n",
        "    return None\n",
        "\n",
        "  def get_gamma(self):\n",
        "    return None\n",
        "\n",
        "  def get_rho(self):\n",
        "    return None\n",
        "\n",
        "  def get_theta(self):\n",
        "    return None\n",
        "\n",
        "  def get_vega(self):\n",
        "    return None\n",
        "\n",
        "  def update_vol(self, volatility):\n",
        "    self.volatility = volatility\n",
        "    self.compute_d1_d2()\n",
        "    return self"
      ],
      "metadata": {
        "id": "_YQ9Ndz7yQ1d"
      },
      "execution_count": null,
      "outputs": []
    },
    {
      "cell_type": "markdown",
      "source": [
        "We create an option object and call its methods at will, such as the put option price below:"
      ],
      "metadata": {
        "id": "RN7F7S-Z6tKU"
      }
    },
    {
      "cell_type": "code",
      "source": [
        "some_option = FuturesOption(.20,20,25,.0433,.4)\n",
        "some_option.get_put_price()"
      ],
      "metadata": {
        "colab": {
          "base_uri": "https://localhost:8080/"
        },
        "id": "PO2CxaYM09hV",
        "outputId": "5cdd4de1-f6b3-4745-ef0c-32ece53608c2"
      },
      "execution_count": null,
      "outputs": [
        {
          "output_type": "execute_result",
          "data": {
            "text/plain": [
              "0.043348019607509954"
            ]
          },
          "metadata": {},
          "execution_count": 6
        }
      ]
    },
    {
      "cell_type": "markdown",
      "source": [
        "I run a quick volatility sensitivity output on the `some_option` object below:"
      ],
      "metadata": {
        "id": "KEPAB1Ad-tSn"
      }
    },
    {
      "cell_type": "code",
      "source": [
        "vol_range = np.linspace(0.1, 0.6, 50)\n",
        "call_prices = [some_option.update_vol(v).get_call_price() for v in vol_range]\n",
        "plt.plot(vol_range, call_prices, label=\"Call Price\")\n",
        "plt.xlabel(\"Volatility (%)\")\n",
        "plt.ylabel(\"Call Option Price\")\n",
        "plt.title(\"Sensitivity of Call Option Price to Volatility\")\n",
        "plt.legend()\n",
        "plt.show()"
      ],
      "metadata": {
        "colab": {
          "base_uri": "https://localhost:8080/",
          "height": 472
        },
        "id": "lMdcUdTo_3aG",
        "outputId": "af8a1ec1-5b28-4ef7-e9dc-8d2af2250b90"
      },
      "execution_count": null,
      "outputs": [
        {
          "output_type": "display_data",
          "data": {
            "text/plain": [
              "<Figure size 640x480 with 1 Axes>"
            ],
            "image/png": "[encoded data removed]"
          },
          "metadata": {}
        }
      ]
    }
  ]
}