{
  "nbformat": 4,
  "nbformat_minor": 0,
  "metadata": {
    "colab": {
      "provenance": [],
      "authorship_tag": "ABX9TyPDvTeKHTg3tyoduHEeuxE4"
    },
    "kernelspec": {
      "name": "python3",
      "display_name": "Python 3"
    },
    "language_info": {
      "name": "python"
    }
  },
  "cells": [
    {
      "cell_type": "markdown",
      "source": [
        "# **Using Black's Model to Value Futures Options**"
      ],
      "metadata": {
        "id": "EgZh4BddYAQe"
      }
    },
    {
      "cell_type": "markdown",
      "source": [
        "#### **Author: Zachary Wright, CFA, FRM | Last Updated: 02/12/25**"
      ],
      "metadata": {
        "id": "8im6eaOHYFVY"
      }
    },
    {
      "cell_type": "markdown",
      "source": [
        "**Overview:** In this project, I use Options, Futures, and Other Derivatives by Hull as a reference to value futures options with Black's Model (also known as Black-76) in Python.\n",
        "\n",
        "This is derived from:\n",
        "1.   Itô’s Lemma\n",
        "2.   Black-Scholes PDE\n",
        "\n"
      ],
      "metadata": {
        "id": "5_iisLFXYSsn"
      }
    },
    {
      "cell_type": "markdown",
      "source": [
        "**Planned Updates:**\n",
        "- Option class and methods\n",
        "- Sensitivity and scenario analysis"
      ],
      "metadata": {
        "id": "RmSWZnWUmrNf"
      }
    },
    {
      "cell_type": "markdown",
      "source": [
        "**Latest Changes:**\n",
        "* Started project"
      ],
      "metadata": {
        "id": "c1LYnaqzc2ww"
      }
    },
    {
      "cell_type": "markdown",
      "source": [
        "**Libraries Used:**\n",
        "- Numpy\n",
        "- SciPy"
      ],
      "metadata": {
        "id": "yxpKTdIFmxl3"
      }
    },
    {
      "cell_type": "markdown",
      "source": [
        "---"
      ],
      "metadata": {
        "id": "Yz4iOEwTb0o3"
      }
    },
    {
      "cell_type": "code",
      "source": [
        "import numpy as np\n",
        "from scipy.stats import norm"
      ],
      "metadata": {
        "id": "6C00B_WuYScM"
      },
      "execution_count": 1,
      "outputs": []
    },
    {
      "cell_type": "markdown",
      "source": [
        "Setting variables through user input:"
      ],
      "metadata": {
        "id": "__TtMYl8Gx2M"
      }
    },
    {
      "cell_type": "code",
      "source": [
        "try:\n",
        "  volatility = float(input(\"Enter volatility per annum: \"))\n",
        "  rfr = float(input(\"Enter the risk-free rate: \"))\n",
        "  strike = float(input(\"Enter strike price: \"))\n",
        "  futures_price = float(input(\"Enter the futures price: \"))\n",
        "  time = float(input(\"Enter the time to contract settlement (fractions of a year): \"))\n",
        "  print(\"\\nVariables set successfully.\\n\")\n",
        "except:\n",
        "  print(\"\\n Values must be numbers in decimal form.\\n\")\n",
        "  raise ValueError"
      ],
      "metadata": {
        "id": "Ei9l67RgKyNc",
        "colab": {
          "base_uri": "https://localhost:8080/"
        },
        "outputId": "ecde21b3-cb01-45c4-c947-62b1f7350318"
      },
      "execution_count": 7,
      "outputs": [
        {
          "output_type": "stream",
          "name": "stdout",
          "text": [
            "Enter volatility per annum: .25\n",
            "Enter the risk-free rate: .0425\n",
            "Enter strike price: 25\n",
            "Enter the futures price: 20\n",
            "Enter the time to contract settlement (fractions of a year): .4\n",
            "\n",
            "Variables set successfully.\n",
            "\n"
          ]
        }
      ]
    },
    {
      "cell_type": "markdown",
      "source": [
        "Calculating d1 and d2:"
      ],
      "metadata": {
        "id": "ZPWUAxlYMuF8"
      }
    },
    {
      "cell_type": "code",
      "source": [
        "d1 = ((np.log(futures_price / strike) + ((volatility**2) * (time/2))))/(volatility*np.sqrt(time))\n",
        "d2 = ((np.log(futures_price / strike) - ((volatility**2) * (time/2))))/(volatility*np.sqrt(time))\n",
        "\n",
        "print(\"d1: \",d1)\n",
        "print(\"d2: \",d2)"
      ],
      "metadata": {
        "colab": {
          "base_uri": "https://localhost:8080/"
        },
        "id": "hBEwFox_GzFT",
        "outputId": "eef3f586-0369-45c7-9832-86aa66871591"
      },
      "execution_count": 4,
      "outputs": [
        {
          "output_type": "stream",
          "name": "stdout",
          "text": [
            "d1:  -1.332226793158914\n",
            "d2:  -1.490340676167333\n"
          ]
        }
      ]
    },
    {
      "cell_type": "code",
      "source": [
        "c = (np.exp(-rfr*time))*((futures_price*norm.cdf(d1)) - (strike*norm.cdf(d2)))\n",
        "p = (np.exp(-rfr*time))*((strike*norm.cdf(-1*d2)) - (futures_price*norm.cdf(-1*d1)))\n",
        "\n",
        "print(\"Options Price: \\n\", \"Call: \", c, \"\\n\", \"Put: \", p , \"\\n\")"
      ],
      "metadata": {
        "id": "0a5OWDtKJfK7",
        "colab": {
          "base_uri": "https://localhost:8080/"
        },
        "outputId": "e560821f-e5c4-49ba-8fcd-19b6e21351c1"
      },
      "execution_count": 6,
      "outputs": [
        {
          "output_type": "stream",
          "name": "stdout",
          "text": [
            "Options Price: \n",
            " Call:  0.12404640255171569 \n",
            " Put:  5.039764825726262 \n",
            "\n"
          ]
        }
      ]
    }
  ]
}