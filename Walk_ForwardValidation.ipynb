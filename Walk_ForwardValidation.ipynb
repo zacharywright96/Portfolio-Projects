{
  "nbformat": 4,
  "nbformat_minor": 0,
  "metadata": {
    "colab": {
      "provenance": [],
      "toc_visible": true,
      "authorship_tag": "ABX9TyMvmOUTtfOj0ukR6xWFtYnN"
    },
    "kernelspec": {
      "name": "python3",
      "display_name": "Python 3"
    },
    "language_info": {
      "name": "python"
    }
  },
  "cells": [
    {
      "cell_type": "markdown",
      "source": [
        "# **Machine Learning Models Utilizing Walk-Forward Validation**"
      ],
      "metadata": {
        "id": "sjyu4CGvCAuV"
      }
    },
    {
      "cell_type": "markdown",
      "source": [
        "#### **Author: Zachary Wright, CFA, FRM | Last Updated: 03/03/25**"
      ],
      "metadata": {
        "id": "FNEcTD1gCTAk"
      }
    },
    {
      "cell_type": "markdown",
      "source": [
        "**Overview:** This is an exercise project to find a solution the data leakage problem when making predictions on test sample time-series data by ordering the samples by time."
      ],
      "metadata": {
        "id": "ExHZUdZFCXJ1"
      }
    },
    {
      "cell_type": "markdown",
      "source": [
        "**Planned Updates:**\n",
        "- Feature engineering with volatility clustering, rolling correlations, and autoregression\n",
        "- Model comparison and selection\n",
        "- Model validation metrics"
      ],
      "metadata": {
        "id": "Ea8viMq9lYwq"
      }
    },
    {
      "cell_type": "markdown",
      "source": [
        "**Latest Changes:**\n",
        "* Started project"
      ],
      "metadata": {
        "id": "6-7JeDg9mmaf"
      }
    },
    {
      "cell_type": "markdown",
      "source": [
        "**Libraries used:**\n",
        "- Yahoo Finance\n",
        "- Pandas\n",
        "- Numpy\n",
        "- Sci-kit Learn"
      ],
      "metadata": {
        "id": "k3GOOd7dXWNn"
      }
    },
    {
      "cell_type": "markdown",
      "source": [
        "---"
      ],
      "metadata": {
        "id": "e5j9Y4PplyXl"
      }
    },
    {
      "cell_type": "code",
      "execution_count": null,
      "metadata": {
        "colab": {
          "base_uri": "https://localhost:8080/"
        },
        "id": "zzPwdvSz_T28",
        "outputId": "183604e9-6564-4b99-89d6-c47c06453470"
      },
      "outputs": [
        {
          "output_type": "stream",
          "name": "stderr",
          "text": [
            "\r[*********************100%***********************]  1 of 1 completed\n"
          ]
        },
        {
          "output_type": "stream",
          "name": "stdout",
          "text": [
            "\n",
            "Accuracy on future data: 0.47\n",
            "              precision    recall  f1-score   support\n",
            "\n",
            "           0       0.45      0.79      0.57       134\n",
            "           1       0.56      0.22      0.31       166\n",
            "\n",
            "    accuracy                           0.47       300\n",
            "   macro avg       0.51      0.50      0.44       300\n",
            "weighted avg       0.51      0.47      0.43       300\n",
            "\n"
          ]
        }
      ],
      "source": [
        "import yfinance as yf\n",
        "import pandas as pd\n",
        "import numpy as np\n",
        "from sklearn.preprocessing import StandardScaler\n",
        "from sklearn.linear_model import LogisticRegression\n",
        "from sklearn.metrics import accuracy_score, classification_report\n",
        "\n",
        "#Download historical stock data for NVidia\n",
        "ticker = \"NVDA\"\n",
        "data = yf.download(ticker, start=\"2020-01-01\", end=\"2024-01-01\")\n",
        "\n",
        "#Feature Engineering with closing price data\n",
        "data[\"MA5\"] = data[\"Close\"].rolling(window=5).mean()\n",
        "data[\"MA10\"] = data[\"Close\"].rolling(window=10).mean()\n",
        "data[\"Momentum\"] = data[\"Close\"] - data[\"Close\"].shift(4)\n",
        "data[\"Daily Return\"] = data[\"Close\"].pct_change()\n",
        "\n",
        "#Target Binary Variable (1 if next day's close price is higher, 0 otherwise)\n",
        "data[\"Target\"] = (data[\"Close\"].shift(-1) > data[\"Close\"]).astype(int)\n",
        "\n",
        "#Drop NaN or null values\n",
        "data.dropna(inplace=True)\n",
        "\n",
        "#Define Features\n",
        "features = [\"MA5\", \"MA10\", \"Momentum\", \"Daily Return\"]\n",
        "X = data[features]\n",
        "y = data[\"Target\"]\n",
        "\n",
        "#Walk-Forward Validation\n",
        "split_point = int(len(data) * 0.7)  #Use 70% for training, 30% for testing (in time order)\n",
        "X_train, X_test = X.iloc[:split_point], X.iloc[split_point:]\n",
        "y_train, y_test = y.iloc[:split_point], y.iloc[split_point:]\n",
        "\n",
        "#Standardize Features based on Training Data Only\n",
        "scaler = StandardScaler()\n",
        "X_train = scaler.fit_transform(X_train)\n",
        "X_test = scaler.transform(X_test)\n",
        "\n",
        "#Train Logistic Regression Model\n",
        "model = LogisticRegression()\n",
        "model.fit(X_train, y_train)\n",
        "\n",
        "#Predictions on Future Data\n",
        "y_pred = model.predict(X_test)\n",
        "\n",
        "#Evaluation\n",
        "print(f\"\\nAccuracy on future data: {accuracy_score(y_test, y_pred):.2f}\")\n",
        "print(classification_report(y_test, y_pred))"
      ]
    },
    {
      "cell_type": "markdown",
      "source": [
        "Looking at the scores for the binary classifier 0, we can see that with a Recall of 0.79 and  0.57 F1 score, the model in its current state performs best predicting down days. I will use K-Fold Cross Validation to improve its test sample performance for predicting up days."
      ],
      "metadata": {
        "id": "AFOb2aD4QsOI"
      }
    },
    {
      "cell_type": "code",
      "source": [],
      "metadata": {
        "id": "RDOmSvzO_yRx"
      },
      "execution_count": null,
      "outputs": []
    }
  ]
}