{
 "cells": [
  {
   "cell_type": "markdown",
   "id": "f357cb68",
   "metadata": {},
   "source": [
    "## Portfolio Optimization Tools in Python"
   ]
  },
  {
   "cell_type": "markdown",
   "id": "cdd78ef1",
   "metadata": {},
   "source": [
    "##### Author: Zachary Wright, CFA, FRM | Last Updated: 01/27/25"
   ]
  },
  {
   "cell_type": "markdown",
   "id": "5d151133",
   "metadata": {},
   "source": [
    "Welcome! This is a portfolio project dedicated toward showcasing skills acquired in Python in a quantitative finance scenario and may be updated as of time of viewing."
   ]
  },
  {
   "cell_type": "markdown",
   "id": "eb27f793",
   "metadata": {},
   "source": [
    "**Goal:** optimize a portfolio using various methods; maximize Sharpe ratio, minimize variance, and target return and risk."
   ]
  },
  {
   "cell_type": "markdown",
   "id": "cb255e9b",
   "metadata": {},
   "source": [
    "Tools used:\n",
    "- yfinance API to gather asset level data dynamically\n",
    "- Scipy library to optimize asset weightings\n",
    "- Python class constructor and object-oriented programming techniques for efficiency and modularity"
   ]
  },
  {
   "cell_type": "markdown",
   "id": "9b439306",
   "metadata": {},
   "source": [
    "First I will install and then import the required libraries:"
   ]
  },
  {
   "cell_type": "code",
   "execution_count": 1,
   "id": "1345cfbb",
   "metadata": {},
   "outputs": [
    {
     "name": "stdout",
     "output_type": "stream",
     "text": [
      "Collecting pandas\n",
      "  Downloading pandas-2.2.3-cp312-cp312-win_amd64.whl.metadata (19 kB)\n",
      "Collecting numpy>=1.26.0 (from pandas)\n",
      "  Downloading numpy-2.2.2-cp312-cp312-win_amd64.whl.metadata (60 kB)\n",
      "Requirement already satisfied: python-dateutil>=2.8.2 in c:\\users\\zack\\appdata\\local\\programs\\python\\python312\\lib\\site-packages (from pandas) (2.9.0.post0)\n",
      "Collecting pytz>=2020.1 (from pandas)\n",
      "  Downloading pytz-2024.2-py2.py3-none-any.whl.metadata (22 kB)\n",
      "Collecting tzdata>=2022.7 (from pandas)\n",
      "  Downloading tzdata-2025.1-py2.py3-none-any.whl.metadata (1.4 kB)\n",
      "Requirement already satisfied: six>=1.5 in c:\\users\\zack\\appdata\\local\\programs\\python\\python312\\lib\\site-packages (from python-dateutil>=2.8.2->pandas) (1.16.0)\n",
      "Downloading pandas-2.2.3-cp312-cp312-win_amd64.whl (11.5 MB)\n",
      "   ---------------------------------------- 0.0/11.5 MB ? eta -:--:--\n",
      "   -------- ------------------------------- 2.4/11.5 MB 12.2 MB/s eta 0:00:01\n",
      "   ----------------- ---------------------- 5.0/11.5 MB 12.6 MB/s eta 0:00:01\n",
      "   --------------------------- ------------ 7.9/11.5 MB 13.5 MB/s eta 0:00:01\n",
      "   ---------------------------------------  11.3/11.5 MB 14.4 MB/s eta 0:00:01\n",
      "   ---------------------------------------  11.3/11.5 MB 14.4 MB/s eta 0:00:01\n",
      "   ---------------------------------------- 11.5/11.5 MB 10.7 MB/s eta 0:00:00\n",
      "Downloading numpy-2.2.2-cp312-cp312-win_amd64.whl (12.6 MB)\n",
      "   ---------------------------------------- 0.0/12.6 MB ? eta -:--:--\n",
      "   --------- ------------------------------ 2.9/12.6 MB 15.2 MB/s eta 0:00:01\n",
      "   -------------- ------------------------- 4.7/12.6 MB 12.4 MB/s eta 0:00:01\n",
      "   -------------------- ------------------- 6.6/12.6 MB 10.9 MB/s eta 0:00:01\n",
      "   ------------------------- -------------- 8.1/12.6 MB 10.1 MB/s eta 0:00:01\n",
      "   ----------------------------- ---------- 9.4/12.6 MB 9.8 MB/s eta 0:00:01\n",
      "   -------------------------------- ------- 10.2/12.6 MB 8.6 MB/s eta 0:00:01\n",
      "   ------------------------------------ --- 11.5/12.6 MB 8.0 MB/s eta 0:00:01\n",
      "   ---------------------------------------  12.6/12.6 MB 8.0 MB/s eta 0:00:01\n",
      "   ---------------------------------------- 12.6/12.6 MB 7.1 MB/s eta 0:00:00\n",
      "Downloading pytz-2024.2-py2.py3-none-any.whl (508 kB)\n",
      "Downloading tzdata-2025.1-py2.py3-none-any.whl (346 kB)\n",
      "Installing collected packages: pytz, tzdata, numpy, pandas\n",
      "Successfully installed numpy-2.2.2 pandas-2.2.3 pytz-2024.2 tzdata-2025.1\n"
     ]
    },
    {
     "name": "stderr",
     "output_type": "stream",
     "text": [
      "WARNING: Ignoring invalid distribution ~upyterlab (C:\\Users\\Zack\\AppData\\Local\\Programs\\Python\\Python312\\Lib\\site-packages)\n",
      "WARNING: Ignoring invalid distribution ~upyterlab (C:\\Users\\Zack\\AppData\\Local\\Programs\\Python\\Python312\\Lib\\site-packages)\n",
      "WARNING: Ignoring invalid distribution ~upyterlab (C:\\Users\\Zack\\AppData\\Local\\Programs\\Python\\Python312\\Lib\\site-packages)\n",
      "\n",
      "[notice] A new release of pip is available: 24.3.1 -> 25.0\n",
      "[notice] To update, run: C:\\Users\\Zack\\AppData\\Local\\Programs\\Python\\Python312\\python.exe -m pip install --upgrade pip\n"
     ]
    },
    {
     "name": "stdout",
     "output_type": "stream",
     "text": [
      "Requirement already satisfied: numpy in c:\\users\\zack\\appdata\\local\\programs\\python\\python312\\lib\\site-packages (2.2.2)\n"
     ]
    },
    {
     "name": "stderr",
     "output_type": "stream",
     "text": [
      "WARNING: Ignoring invalid distribution ~upyterlab (C:\\Users\\Zack\\AppData\\Local\\Programs\\Python\\Python312\\Lib\\site-packages)\n",
      "WARNING: Ignoring invalid distribution ~upyterlab (C:\\Users\\Zack\\AppData\\Local\\Programs\\Python\\Python312\\Lib\\site-packages)\n",
      "WARNING: Ignoring invalid distribution ~upyterlab (C:\\Users\\Zack\\AppData\\Local\\Programs\\Python\\Python312\\Lib\\site-packages)\n",
      "\n",
      "[notice] A new release of pip is available: 24.3.1 -> 25.0\n",
      "[notice] To update, run: C:\\Users\\Zack\\AppData\\Local\\Programs\\Python\\Python312\\python.exe -m pip install --upgrade pip\n"
     ]
    },
    {
     "name": "stdout",
     "output_type": "stream",
     "text": [
      "Collecting yfinance\n",
      "  Downloading yfinance-0.2.52-py2.py3-none-any.whl.metadata (5.8 kB)\n",
      "Requirement already satisfied: pandas>=1.3.0 in c:\\users\\zack\\appdata\\local\\programs\\python\\python312\\lib\\site-packages (from yfinance) (2.2.3)\n",
      "Requirement already satisfied: numpy>=1.16.5 in c:\\users\\zack\\appdata\\local\\programs\\python\\python312\\lib\\site-packages (from yfinance) (2.2.2)\n",
      "Requirement already satisfied: requests>=2.31 in c:\\users\\zack\\appdata\\local\\programs\\python\\python312\\lib\\site-packages (from yfinance) (2.32.3)\n",
      "Collecting multitasking>=0.0.7 (from yfinance)\n",
      "  Downloading multitasking-0.0.11-py3-none-any.whl.metadata (5.5 kB)\n",
      "Collecting lxml>=4.9.1 (from yfinance)\n",
      "  Downloading lxml-5.3.0-cp312-cp312-win_amd64.whl.metadata (3.9 kB)\n",
      "Requirement already satisfied: platformdirs>=2.0.0 in c:\\users\\zack\\appdata\\local\\programs\\python\\python312\\lib\\site-packages (from yfinance) (4.3.6)\n",
      "Requirement already satisfied: pytz>=2022.5 in c:\\users\\zack\\appdata\\local\\programs\\python\\python312\\lib\\site-packages (from yfinance) (2024.2)\n",
      "Collecting frozendict>=2.3.4 (from yfinance)\n",
      "  Downloading frozendict-2.4.6-py312-none-any.whl.metadata (23 kB)\n",
      "Collecting peewee>=3.16.2 (from yfinance)\n",
      "  Downloading peewee-3.17.8.tar.gz (948 kB)\n",
      "     ---------------------------------------- 0.0/948.2 kB ? eta -:--:--\n",
      "     -------------------------------------- 948.2/948.2 kB 4.4 MB/s eta 0:00:00\n",
      "  Installing build dependencies: started\n",
      "  Installing build dependencies: finished with status 'done'\n",
      "  Getting requirements to build wheel: started\n",
      "  Getting requirements to build wheel: finished with status 'done'\n",
      "  Preparing metadata (pyproject.toml): started\n",
      "  Preparing metadata (pyproject.toml): finished with status 'done'\n",
      "Requirement already satisfied: beautifulsoup4>=4.11.1 in c:\\users\\zack\\appdata\\local\\programs\\python\\python312\\lib\\site-packages (from yfinance) (4.12.3)\n",
      "Collecting html5lib>=1.1 (from yfinance)\n",
      "  Downloading html5lib-1.1-py2.py3-none-any.whl.metadata (16 kB)\n",
      "Requirement already satisfied: soupsieve>1.2 in c:\\users\\zack\\appdata\\local\\programs\\python\\python312\\lib\\site-packages (from beautifulsoup4>=4.11.1->yfinance) (2.6)\n",
      "Requirement already satisfied: six>=1.9 in c:\\users\\zack\\appdata\\local\\programs\\python\\python312\\lib\\site-packages (from html5lib>=1.1->yfinance) (1.16.0)\n",
      "Requirement already satisfied: webencodings in c:\\users\\zack\\appdata\\local\\programs\\python\\python312\\lib\\site-packages (from html5lib>=1.1->yfinance) (0.5.1)\n",
      "Requirement already satisfied: python-dateutil>=2.8.2 in c:\\users\\zack\\appdata\\local\\programs\\python\\python312\\lib\\site-packages (from pandas>=1.3.0->yfinance) (2.9.0.post0)\n",
      "Requirement already satisfied: tzdata>=2022.7 in c:\\users\\zack\\appdata\\local\\programs\\python\\python312\\lib\\site-packages (from pandas>=1.3.0->yfinance) (2025.1)\n",
      "Requirement already satisfied: charset-normalizer<4,>=2 in c:\\users\\zack\\appdata\\local\\programs\\python\\python312\\lib\\site-packages (from requests>=2.31->yfinance) (3.4.0)\n",
      "Requirement already satisfied: idna<4,>=2.5 in c:\\users\\zack\\appdata\\local\\programs\\python\\python312\\lib\\site-packages (from requests>=2.31->yfinance) (3.10)\n",
      "Requirement already satisfied: urllib3<3,>=1.21.1 in c:\\users\\zack\\appdata\\local\\programs\\python\\python312\\lib\\site-packages (from requests>=2.31->yfinance) (2.2.3)\n",
      "Requirement already satisfied: certifi>=2017.4.17 in c:\\users\\zack\\appdata\\local\\programs\\python\\python312\\lib\\site-packages (from requests>=2.31->yfinance) (2024.8.30)\n",
      "Downloading yfinance-0.2.52-py2.py3-none-any.whl (108 kB)\n",
      "Downloading frozendict-2.4.6-py312-none-any.whl (16 kB)\n",
      "Downloading html5lib-1.1-py2.py3-none-any.whl (112 kB)\n",
      "Downloading lxml-5.3.0-cp312-cp312-win_amd64.whl (3.8 MB)\n",
      "   ---------------------------------------- 0.0/3.8 MB ? eta -:--:--\n",
      "   ---------- ----------------------------- 1.0/3.8 MB 5.6 MB/s eta 0:00:01\n",
      "   ------------------------ --------------- 2.4/3.8 MB 6.4 MB/s eta 0:00:01\n",
      "   ---------------------------------------- 3.8/3.8 MB 6.9 MB/s eta 0:00:00\n",
      "Downloading multitasking-0.0.11-py3-none-any.whl (8.5 kB)\n",
      "Building wheels for collected packages: peewee\n",
      "  Building wheel for peewee (pyproject.toml): started\n",
      "  Building wheel for peewee (pyproject.toml): finished with status 'done'\n",
      "  Created wheel for peewee: filename=peewee-3.17.8-py3-none-any.whl size=139064 sha256=0022c738a7b39b6709c8f74c2f0c6fc89a8b8eaee046210624da61ee3ea25502\n",
      "  Stored in directory: c:\\users\\zack\\appdata\\local\\pip\\cache\\wheels\\8f\\65\\34\\456800445efeafb05164fe95285c70e81ba1d96bae30f43917\n",
      "Successfully built peewee\n",
      "Installing collected packages: peewee, multitasking, lxml, html5lib, frozendict, yfinance\n",
      "Successfully installed frozendict-2.4.6 html5lib-1.1 lxml-5.3.0 multitasking-0.0.11 peewee-3.17.8 yfinance-0.2.52\n"
     ]
    },
    {
     "name": "stderr",
     "output_type": "stream",
     "text": [
      "WARNING: Ignoring invalid distribution ~upyterlab (C:\\Users\\Zack\\AppData\\Local\\Programs\\Python\\Python312\\Lib\\site-packages)\n",
      "WARNING: Ignoring invalid distribution ~upyterlab (C:\\Users\\Zack\\AppData\\Local\\Programs\\Python\\Python312\\Lib\\site-packages)\n",
      "WARNING: Ignoring invalid distribution ~upyterlab (C:\\Users\\Zack\\AppData\\Local\\Programs\\Python\\Python312\\Lib\\site-packages)\n",
      "\n",
      "[notice] A new release of pip is available: 24.3.1 -> 25.0\n",
      "[notice] To update, run: C:\\Users\\Zack\\AppData\\Local\\Programs\\Python\\Python312\\python.exe -m pip install --upgrade pip\n",
      "WARNING: Ignoring invalid distribution ~upyterlab (C:\\Users\\Zack\\AppData\\Local\\Programs\\Python\\Python312\\Lib\\site-packages)\n",
      "WARNING: Ignoring invalid distribution ~upyterlab (C:\\Users\\Zack\\AppData\\Local\\Programs\\Python\\Python312\\Lib\\site-packages)\n",
      "WARNING: Ignoring invalid distribution ~upyterlab (C:\\Users\\Zack\\AppData\\Local\\Programs\\Python\\Python312\\Lib\\site-packages)\n",
      "\n",
      "[notice] A new release of pip is available: 24.3.1 -> 25.0\n",
      "[notice] To update, run: C:\\Users\\Zack\\AppData\\Local\\Programs\\Python\\Python312\\python.exe -m pip install --upgrade pip\n"
     ]
    },
    {
     "name": "stdout",
     "output_type": "stream",
     "text": [
      "Collecting scipy\n",
      "  Downloading scipy-1.15.1-cp312-cp312-win_amd64.whl.metadata (60 kB)\n",
      "Requirement already satisfied: numpy<2.5,>=1.23.5 in c:\\users\\zack\\appdata\\local\\programs\\python\\python312\\lib\\site-packages (from scipy) (2.2.2)\n",
      "Downloading scipy-1.15.1-cp312-cp312-win_amd64.whl (43.6 MB)\n",
      "   ---------------------------------------- 0.0/43.6 MB ? eta -:--:--\n",
      "   ---------------------------------------- 0.0/43.6 MB ? eta -:--:--\n",
      "    --------------------------------------- 1.0/43.6 MB 25.4 MB/s eta 0:00:02\n",
      "   -- ------------------------------------- 3.1/43.6 MB 13.2 MB/s eta 0:00:04\n",
      "   ----- ---------------------------------- 5.8/43.6 MB 12.2 MB/s eta 0:00:04\n",
      "   ------- -------------------------------- 8.4/43.6 MB 12.4 MB/s eta 0:00:03\n",
      "   ---------- ----------------------------- 11.3/43.6 MB 12.8 MB/s eta 0:00:03\n",
      "   ------------ --------------------------- 13.6/43.6 MB 12.8 MB/s eta 0:00:03\n",
      "   -------------- ------------------------- 15.7/43.6 MB 11.9 MB/s eta 0:00:03\n",
      "   --------------- ------------------------ 17.0/43.6 MB 11.3 MB/s eta 0:00:03\n",
      "   ---------------- ----------------------- 18.4/43.6 MB 10.6 MB/s eta 0:00:03\n",
      "   ------------------ --------------------- 20.2/43.6 MB 10.3 MB/s eta 0:00:03\n",
      "   ------------------- -------------------- 21.8/43.6 MB 10.0 MB/s eta 0:00:03\n",
      "   --------------------- ------------------ 23.3/43.6 MB 9.8 MB/s eta 0:00:03\n",
      "   ---------------------- ----------------- 24.6/43.6 MB 9.6 MB/s eta 0:00:02\n",
      "   ------------------------ --------------- 26.5/43.6 MB 9.5 MB/s eta 0:00:02\n",
      "   ------------------------- -------------- 28.0/43.6 MB 9.3 MB/s eta 0:00:02\n",
      "   -------------------------- ------------- 29.1/43.6 MB 9.0 MB/s eta 0:00:02\n",
      "   ---------------------------- ----------- 30.7/43.6 MB 8.9 MB/s eta 0:00:02\n",
      "   ----------------------------- ---------- 32.2/43.6 MB 8.8 MB/s eta 0:00:02\n",
      "   ------------------------------ --------- 33.6/43.6 MB 8.7 MB/s eta 0:00:02\n",
      "   -------------------------------- ------- 35.7/43.6 MB 8.7 MB/s eta 0:00:01\n",
      "   ---------------------------------- ----- 37.7/43.6 MB 8.9 MB/s eta 0:00:01\n",
      "   ------------------------------------ --- 39.8/43.6 MB 8.9 MB/s eta 0:00:01\n",
      "   -------------------------------------- - 42.2/43.6 MB 9.0 MB/s eta 0:00:01\n",
      "   ---------------------------------------  43.5/43.6 MB 8.9 MB/s eta 0:00:01\n",
      "   ---------------------------------------- 43.6/43.6 MB 8.5 MB/s eta 0:00:00\n",
      "Installing collected packages: scipy\n",
      "Successfully installed scipy-1.15.1\n"
     ]
    }
   ],
   "source": [
    "!pip install pandas\n",
    "!pip install numpy\n",
    "!pip install yfinance\n",
    "!pip install scipy"
   ]
  },
  {
   "cell_type": "code",
   "execution_count": 2,
   "id": "f7bc05fb-b52e-459c-bd48-4b0f8f1fe718",
   "metadata": {},
   "outputs": [],
   "source": [
    "import pandas as pd\n",
    "import numpy as np\n",
    "import yfinance as yf\n",
    "from scipy.optimize import minimize"
   ]
  },
  {
   "cell_type": "markdown",
   "id": "74205c32",
   "metadata": {},
   "source": [
    "Next, since Python is an interpreted language, I will define a Portfolio class and its associated functions and methods first."
   ]
  },
  {
   "cell_type": "code",
   "execution_count": 7,
   "id": "65ba80c2",
   "metadata": {},
   "outputs": [],
   "source": [
    "#Create class portfolio - we can theoretically have multiple portfolios with different asset and return data series.\n",
    "class Portfolio:\n",
    "    def __init__(self, returns, weights):\n",
    "        self.returns = returns\n",
    "        self.weights = weights\n",
    "    \n",
    "    #Return the return of portfolio\n",
    "    def get_return(self, weights=None):\n",
    "        avg_asset_returns = self.returns.mean()\n",
    "        if weights is None:\n",
    "            weights = self.weights\n",
    "        port_return = sum(w * avg_ret for w, avg_ret in zip(weights, avg_asset_returns))\n",
    "        return port_return\n",
    "\n",
    "    #Return the covariance of the portfolio\n",
    "    def get_cov(self):\n",
    "        return self.returns.cov()\n",
    "\n",
    "    #Return the variance of the portfolio\n",
    "    def get_var(self, weights=None):\n",
    "        if weights is None:\n",
    "            weights = self.weights\n",
    "        cov_matrix = self.get_cov()\n",
    "        weights = np.array(weights)\n",
    "        port_variance = weights.T @ cov_matrix @ weights\n",
    "        return port_variance\n",
    "\n",
    "    #Get the return series data of provided tickers from yfinance API\n",
    "    def get_returns_from_yfinance(self, tickers, start_date, end_date):\n",
    "        all_data = {}\n",
    "        for ticker in tickers:\n",
    "            data = yf.download(ticker, start=start_date, end=end_date, interval=\"1mo\")\n",
    "            returns = data[\"Adj Close\"].pct_change().dropna()\n",
    "            all_data[ticker] = returns\n",
    "        return pd.DataFrame(all_data)\n",
    "\n",
    "    #Optimization function: can maximize Sharpe Ratio, minimize variance, and target return and risk\n",
    "    def optimize(self, objective=\"sharpe\", target_return=None, target_risk=None):\n",
    "        n_assets = len(self.weights)\n",
    "        avg_returns = self.returns.mean()\n",
    "        cov_matrix = self.get_cov()\n",
    "\n",
    "        #Risk-free rate proxy from TBLL ETF yield through yfinance\n",
    "        tbll = yf.Ticker(\"TBLL\")\n",
    "        rfr_proxy = tbll.info.get('dividendYield', 0)\n",
    "\n",
    "        #Define constraints\n",
    "        constraints = [{'type': 'eq', 'fun': lambda w: np.sum(w) - 1}]\n",
    "        bounds = [(0, 1) for _ in range(n_assets)]\n",
    "\n",
    "        #Define the objective function\n",
    "        if objective == \"sharpe\":\n",
    "            def objective_function(weights):\n",
    "                port_return = self.get_return(weights)\n",
    "                port_variance = self.get_var(weights)\n",
    "                sharpe_ratio = (port_return - rfr_proxy) / np.sqrt(port_variance)\n",
    "                return -sharpe_ratio\n",
    "        elif objective == \"min_variance\":\n",
    "            def objective_function(weights):\n",
    "                return self.get_var(weights)\n",
    "        elif objective == \"target_return\":\n",
    "            if target_return is None:\n",
    "                raise ValueError(\"You must specify a target_return for this objective.\")\n",
    "            def objective_function(weights):\n",
    "                return self.get_var(weights)\n",
    "            constraints.append({'type': 'eq', 'fun': lambda w: self.get_return(w) - target_return})\n",
    "        elif objective == \"target_risk\":\n",
    "            if target_risk is None:\n",
    "                raise ValueError(\"You must specify a target_risk for this objective.\")\n",
    "            def objective_function(weights):\n",
    "                return abs(self.get_var(weights) - target_risk)\n",
    "        else:\n",
    "            raise ValueError(\"Invalid optimization objective.\")\n",
    "\n",
    "        #Optimize\n",
    "        result = minimize(objective_function, self.weights, constraints=constraints, bounds=bounds)\n",
    "        if result.success:\n",
    "            self.weights = result.x\n",
    "        return result"
   ]
  },
  {
   "cell_type": "markdown",
   "id": "5e3f2165-288a-4e3e-8d48-588fa926bf72",
   "metadata": {},
   "source": [
    "From here, we can import our portfolio's assets and their associated monthly returns. "
   ]
  },
  {
   "cell_type": "code",
   "execution_count": 4,
   "id": "38240b69",
   "metadata": {},
   "outputs": [],
   "source": [
    "#Create a dataframe with asset and return data\n",
    "tickers = [\"IVV\", \"IXUS\", \"IEMG\"]\n",
    "data = {\n",
    "    \"Asset_1\": [0.02, 0.03, 0.01, 0.04],\n",
    "    \"Asset_2\": [0.01, 0.02, 0.00, 0.03],\n",
    "    \"Asset_3\": [0.03, 0.01, 0.02, 0.05]\n",
    "}\n",
    "returns = pd.DataFrame(data)\n",
    "\n",
    "weights = [0.5, 0.3, 0.2]"
   ]
  },
  {
   "cell_type": "markdown",
   "id": "6d6b96a9-f5b5-41cb-887d-15bebdcad57b",
   "metadata": {},
   "source": [
    "A portfolio object can now be created. For a set of portfolios where we want to optimize separately, we would create multiple portfolio objects."
   ]
  },
  {
   "cell_type": "code",
   "execution_count": 5,
   "id": "8c77986a",
   "metadata": {},
   "outputs": [],
   "source": [
    "#Create a portfolio object\n",
    "portfolio = Portfolio(returns, weights)"
   ]
  },
  {
   "cell_type": "markdown",
   "id": "6d28e387-f401-414f-ad1c-3c8fd5c12868",
   "metadata": {},
   "source": [
    "You can see the optimized output below based on a maximized Sharpe ratio objective:"
   ]
  },
  {
   "cell_type": "code",
   "execution_count": 6,
   "id": "50036d32",
   "metadata": {},
   "outputs": [
    {
     "name": "stdout",
     "output_type": "stream",
     "text": [
      "Optimized Weights: [0.70977761 0.         0.29022239]\n",
      "Optimized Portfolio Return: 0.02572555597885054\n",
      "Optimized Portfolio Variance: 0.0001565959607366926\n"
     ]
    }
   ],
   "source": [
    "#Demonstrate optimization\n",
    "optimized_result = portfolio.optimize(objective=\"sharpe\")\n",
    "print(\"Optimized Weights:\", optimized_result.x)\n",
    "print(\"Optimized Portfolio Return:\", portfolio.get_return(optimized_result.x))\n",
    "print(\"Optimized Portfolio Variance:\", portfolio.get_var(optimized_result.x))\n"
   ]
  },
  {
   "cell_type": "code",
   "execution_count": null,
   "id": "348b431c-1f60-4d5c-a30b-36d424b2c821",
   "metadata": {},
   "outputs": [],
   "source": []
  },
  {
   "cell_type": "markdown",
   "id": "b9aec815-d3a0-4118-9f98-3ea7e2f24b58",
   "metadata": {},
   "source": [
    "Thank you for viewing this portfolio project!"
   ]
  }
 ],
 "metadata": {
  "kernelspec": {
   "display_name": "Python 3 (ipykernel)",
   "language": "python",
   "name": "python3"
  },
  "language_info": {
   "codemirror_mode": {
    "name": "ipython",
    "version": 3
   },
   "file_extension": ".py",
   "mimetype": "text/x-python",
   "name": "python",
   "nbconvert_exporter": "python",
   "pygments_lexer": "ipython3",
   "version": "3.12.8"
  }
 },
 "nbformat": 4,
 "nbformat_minor": 5
}
