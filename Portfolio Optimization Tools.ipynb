{
 "cells": [
  {
   "cell_type": "markdown",
   "id": "f357cb68",
   "metadata": {},
   "source": [
    "## Portfolio Optimization Tools in Python"
   ]
  },
  {
   "cell_type": "markdown",
   "id": "cdd78ef1",
   "metadata": {},
   "source": [
    "##### Author: Zachary Wright, CFA, FRM | Last Updated: 01/27/25"
   ]
  },
  {
   "cell_type": "markdown",
   "id": "5d151133",
   "metadata": {},
   "source": [
    "Welcome! This is a portfolio project dedicated toward showcasing skills acquired in Python in a quantitative finance scenario and may be updated as of time of viewing."
   ]
  },
  {
   "cell_type": "markdown",
   "id": "eb27f793",
   "metadata": {},
   "source": [
    "**Goal:** optimize a portfolio using various methods; maximize Sharpe ratio, minimize variance, and target return and risk."
   ]
  },
  {
   "cell_type": "markdown",
   "id": "cb255e9b",
   "metadata": {},
   "source": [
    "Tools used:\n",
    "- yfinance API to gather asset level data dynamically\n",
    "- Scipy library to optimize asset weightings\n",
    "- Python class constructor and object-oriented programming techniques for efficiency and modularity"
   ]
  },
  {
   "cell_type": "markdown",
   "id": "9b439306",
   "metadata": {},
   "source": [
    "First I will install and then import the required libraries:"
   ]
  },
  {
   "cell_type": "code",
   "execution_count": 1,
   "id": "1345cfbb",
   "metadata": {},
   "outputs": [
    {
     "name": "stdout",
     "output_type": "stream",
     "text": [
      "Requirement already satisfied: pandas in c:\\users\\zack\\appdata\\local\\programs\\python\\python312\\lib\\site-packages (2.2.3)\n",
      "Requirement already satisfied: numpy>=1.26.0 in c:\\users\\zack\\appdata\\local\\programs\\python\\python312\\lib\\site-packages (from pandas) (2.2.2)\n",
      "Requirement already satisfied: python-dateutil>=2.8.2 in c:\\users\\zack\\appdata\\local\\programs\\python\\python312\\lib\\site-packages (from pandas) (2.9.0.post0)\n",
      "Requirement already satisfied: pytz>=2020.1 in c:\\users\\zack\\appdata\\local\\programs\\python\\python312\\lib\\site-packages (from pandas) (2024.2)\n",
      "Requirement already satisfied: tzdata>=2022.7 in c:\\users\\zack\\appdata\\local\\programs\\python\\python312\\lib\\site-packages (from pandas) (2025.1)\n",
      "Requirement already satisfied: six>=1.5 in c:\\users\\zack\\appdata\\local\\programs\\python\\python312\\lib\\site-packages (from python-dateutil>=2.8.2->pandas) (1.16.0)\n"
     ]
    },
    {
     "name": "stderr",
     "output_type": "stream",
     "text": [
      "WARNING: Ignoring invalid distribution ~upyterlab (C:\\Users\\Zack\\AppData\\Local\\Programs\\Python\\Python312\\Lib\\site-packages)\n",
      "WARNING: Ignoring invalid distribution ~upyterlab (C:\\Users\\Zack\\AppData\\Local\\Programs\\Python\\Python312\\Lib\\site-packages)\n",
      "WARNING: Ignoring invalid distribution ~upyterlab (C:\\Users\\Zack\\AppData\\Local\\Programs\\Python\\Python312\\Lib\\site-packages)\n"
     ]
    },
    {
     "name": "stdout",
     "output_type": "stream",
     "text": [
      "Requirement already satisfied: numpy in c:\\users\\zack\\appdata\\local\\programs\\python\\python312\\lib\\site-packages (2.2.2)\n"
     ]
    },
    {
     "name": "stderr",
     "output_type": "stream",
     "text": [
      "WARNING: Ignoring invalid distribution ~upyterlab (C:\\Users\\Zack\\AppData\\Local\\Programs\\Python\\Python312\\Lib\\site-packages)\n",
      "WARNING: Ignoring invalid distribution ~upyterlab (C:\\Users\\Zack\\AppData\\Local\\Programs\\Python\\Python312\\Lib\\site-packages)\n",
      "WARNING: Ignoring invalid distribution ~upyterlab (C:\\Users\\Zack\\AppData\\Local\\Programs\\Python\\Python312\\Lib\\site-packages)\n"
     ]
    },
    {
     "name": "stdout",
     "output_type": "stream",
     "text": [
      "Requirement already satisfied: yfinance in c:\\users\\zack\\appdata\\local\\programs\\python\\python312\\lib\\site-packages (0.2.52)\n",
      "Requirement already satisfied: pandas>=1.3.0 in c:\\users\\zack\\appdata\\local\\programs\\python\\python312\\lib\\site-packages (from yfinance) (2.2.3)\n",
      "Requirement already satisfied: numpy>=1.16.5 in c:\\users\\zack\\appdata\\local\\programs\\python\\python312\\lib\\site-packages (from yfinance) (2.2.2)\n",
      "Requirement already satisfied: requests>=2.31 in c:\\users\\zack\\appdata\\local\\programs\\python\\python312\\lib\\site-packages (from yfinance) (2.32.3)\n",
      "Requirement already satisfied: multitasking>=0.0.7 in c:\\users\\zack\\appdata\\local\\programs\\python\\python312\\lib\\site-packages (from yfinance) (0.0.11)\n",
      "Requirement already satisfied: lxml>=4.9.1 in c:\\users\\zack\\appdata\\local\\programs\\python\\python312\\lib\\site-packages (from yfinance) (5.3.0)\n",
      "Requirement already satisfied: platformdirs>=2.0.0 in c:\\users\\zack\\appdata\\local\\programs\\python\\python312\\lib\\site-packages (from yfinance) (4.3.6)\n",
      "Requirement already satisfied: pytz>=2022.5 in c:\\users\\zack\\appdata\\local\\programs\\python\\python312\\lib\\site-packages (from yfinance) (2024.2)\n",
      "Requirement already satisfied: frozendict>=2.3.4 in c:\\users\\zack\\appdata\\local\\programs\\python\\python312\\lib\\site-packages (from yfinance) (2.4.6)\n",
      "Requirement already satisfied: peewee>=3.16.2 in c:\\users\\zack\\appdata\\local\\programs\\python\\python312\\lib\\site-packages (from yfinance) (3.17.8)\n",
      "Requirement already satisfied: beautifulsoup4>=4.11.1 in c:\\users\\zack\\appdata\\local\\programs\\python\\python312\\lib\\site-packages (from yfinance) (4.12.3)\n",
      "Requirement already satisfied: html5lib>=1.1 in c:\\users\\zack\\appdata\\local\\programs\\python\\python312\\lib\\site-packages (from yfinance) (1.1)\n",
      "Requirement already satisfied: soupsieve>1.2 in c:\\users\\zack\\appdata\\local\\programs\\python\\python312\\lib\\site-packages (from beautifulsoup4>=4.11.1->yfinance) (2.6)\n",
      "Requirement already satisfied: six>=1.9 in c:\\users\\zack\\appdata\\local\\programs\\python\\python312\\lib\\site-packages (from html5lib>=1.1->yfinance) (1.16.0)\n",
      "Requirement already satisfied: webencodings in c:\\users\\zack\\appdata\\local\\programs\\python\\python312\\lib\\site-packages (from html5lib>=1.1->yfinance) (0.5.1)\n",
      "Requirement already satisfied: python-dateutil>=2.8.2 in c:\\users\\zack\\appdata\\local\\programs\\python\\python312\\lib\\site-packages (from pandas>=1.3.0->yfinance) (2.9.0.post0)\n",
      "Requirement already satisfied: tzdata>=2022.7 in c:\\users\\zack\\appdata\\local\\programs\\python\\python312\\lib\\site-packages (from pandas>=1.3.0->yfinance) (2025.1)\n",
      "Requirement already satisfied: charset-normalizer<4,>=2 in c:\\users\\zack\\appdata\\local\\programs\\python\\python312\\lib\\site-packages (from requests>=2.31->yfinance) (3.4.0)\n",
      "Requirement already satisfied: idna<4,>=2.5 in c:\\users\\zack\\appdata\\local\\programs\\python\\python312\\lib\\site-packages (from requests>=2.31->yfinance) (3.10)\n",
      "Requirement already satisfied: urllib3<3,>=1.21.1 in c:\\users\\zack\\appdata\\local\\programs\\python\\python312\\lib\\site-packages (from requests>=2.31->yfinance) (2.2.3)\n",
      "Requirement already satisfied: certifi>=2017.4.17 in c:\\users\\zack\\appdata\\local\\programs\\python\\python312\\lib\\site-packages (from requests>=2.31->yfinance) (2024.8.30)\n"
     ]
    },
    {
     "name": "stderr",
     "output_type": "stream",
     "text": [
      "WARNING: Ignoring invalid distribution ~upyterlab (C:\\Users\\Zack\\AppData\\Local\\Programs\\Python\\Python312\\Lib\\site-packages)\n",
      "WARNING: Ignoring invalid distribution ~upyterlab (C:\\Users\\Zack\\AppData\\Local\\Programs\\Python\\Python312\\Lib\\site-packages)\n",
      "WARNING: Ignoring invalid distribution ~upyterlab (C:\\Users\\Zack\\AppData\\Local\\Programs\\Python\\Python312\\Lib\\site-packages)\n"
     ]
    },
    {
     "name": "stdout",
     "output_type": "stream",
     "text": [
      "Requirement already satisfied: scipy in c:\\users\\zack\\appdata\\local\\programs\\python\\python312\\lib\\site-packages (1.15.1)\n",
      "Requirement already satisfied: numpy<2.5,>=1.23.5 in c:\\users\\zack\\appdata\\local\\programs\\python\\python312\\lib\\site-packages (from scipy) (2.2.2)\n"
     ]
    },
    {
     "name": "stderr",
     "output_type": "stream",
     "text": [
      "WARNING: Ignoring invalid distribution ~upyterlab (C:\\Users\\Zack\\AppData\\Local\\Programs\\Python\\Python312\\Lib\\site-packages)\n",
      "WARNING: Ignoring invalid distribution ~upyterlab (C:\\Users\\Zack\\AppData\\Local\\Programs\\Python\\Python312\\Lib\\site-packages)\n",
      "WARNING: Ignoring invalid distribution ~upyterlab (C:\\Users\\Zack\\AppData\\Local\\Programs\\Python\\Python312\\Lib\\site-packages)\n"
     ]
    }
   ],
   "source": [
    "!pip install pandas\n",
    "!pip install numpy\n",
    "!pip install yfinance\n",
    "!pip install scipy"
   ]
  },
  {
   "cell_type": "code",
   "execution_count": 2,
   "id": "f7bc05fb-b52e-459c-bd48-4b0f8f1fe718",
   "metadata": {},
   "outputs": [],
   "source": [
    "import pandas as pd\n",
    "import numpy as np\n",
    "import yfinance as yf\n",
    "from scipy.optimize import minimize"
   ]
  },
  {
   "cell_type": "markdown",
   "id": "74205c32",
   "metadata": {},
   "source": [
    "Next, since Python is an interpreted language, I will define a Portfolio class and its associated functions and methods first.\n",
    "The class methods"
   ]
  },
  {
   "cell_type": "code",
   "execution_count": 3,
   "id": "65ba80c2",
   "metadata": {},
   "outputs": [],
   "source": [
    "#Create class portfolio - we can theoretically have multiple portfolios with different asset and return data series.\n",
    "class Portfolio:\n",
    "    def __init__(self, returns, weights):\n",
    "        self.returns = returns\n",
    "        self.weights = weights\n",
    "\n",
    "    #Get return data from respective tickers - default interval is 1 month data.\n",
    "    def get_returns_from_yfinance(self, tickers, start_date, end_date, interval=\"1mo\"):\n",
    "        all_data = {}\n",
    "        for ticker in tickers:\n",
    "            try:\n",
    "                print(f\"Fetching data for {ticker}...\")\n",
    "                data = yf.download(ticker, start=start_date, end=end_date, interval=interval)\n",
    "                \n",
    "                # Handle multi-index columns\n",
    "                if isinstance(data.columns, pd.MultiIndex):\n",
    "                    #Access the specific 'Close' column for this ticker\n",
    "                    if ('Close', ticker) in data.columns:\n",
    "                        prices = data[('Close', ticker)]\n",
    "                    else:\n",
    "                        print(f\"No valid 'Close' column found for {ticker}. Skipping...\")\n",
    "                        continue\n",
    "                else:\n",
    "                    print(f\"Unexpected column structure for {ticker}. Skipping...\")\n",
    "                    continue\n",
    "                \n",
    "                #Calculate percentage returns\n",
    "                returns = prices.pct_change().dropna()\n",
    "                all_data[ticker] = returns\n",
    "            except Exception as e:\n",
    "                print(f\"Error fetching data for {ticker}: {e}\")\n",
    "        \n",
    "        if all_data:\n",
    "            return pd.DataFrame(all_data)\n",
    "        else:\n",
    "            raise ValueError(\"No valid data fetched. Please check the tickers or date range.\")\n",
    "\n",
    "    #Return the return of portfolio\n",
    "    def get_return(self, weights=None):\n",
    "        avg_asset_returns = self.returns.mean()\n",
    "        if weights is None:\n",
    "            weights = self.weights\n",
    "        port_return = sum(w * avg_ret for w, avg_ret in zip(weights, avg_asset_returns))\n",
    "        return port_return\n",
    "\n",
    "    #Return the covariance of the portfolio\n",
    "    def get_cov(self):\n",
    "        return self.returns.cov()\n",
    "\n",
    "    #Return the variance of the portfolio\n",
    "    def get_var(self, weights=None):\n",
    "        if weights is None:\n",
    "            weights = self.weights\n",
    "        cov_matrix = self.get_cov()\n",
    "        weights = np.array(weights)\n",
    "        port_variance = weights.T @ cov_matrix @ weights\n",
    "        return port_variance\n",
    "\n",
    "    #Optimization function: can maximize Sharpe Ratio, minimize variance, and target return and risk\n",
    "    def optimize(self, objective=\"sharpe\", target_return=None, target_risk=None):\n",
    "        n_assets = len(self.weights)\n",
    "        avg_returns = self.returns.mean()\n",
    "        cov_matrix = self.get_cov()\n",
    "\n",
    "        #Risk-free rate proxy from TBLL ETF yield through yfinance\n",
    "        tbll = yf.Ticker(\"TBLL\")\n",
    "        rfr_proxy = tbll.info.get('dividendYield', 0)\n",
    "\n",
    "        #Define constraints\n",
    "        constraints = [{'type': 'eq', 'fun': lambda w: np.sum(w) - 1}]\n",
    "        bounds = [(0, 1) for _ in range(n_assets)]\n",
    "\n",
    "        #Define the objective function\n",
    "        if objective == \"sharpe\":\n",
    "            def objective_function(weights):\n",
    "                port_return = self.get_return(weights)\n",
    "                port_variance = self.get_var(weights)\n",
    "                sharpe_ratio = (port_return - rfr_proxy) / np.sqrt(port_variance)\n",
    "                return -sharpe_ratio\n",
    "        elif objective == \"min_variance\":\n",
    "            def objective_function(weights):\n",
    "                return self.get_var(weights)\n",
    "        elif objective == \"target_return\":\n",
    "            if target_return is None:\n",
    "                raise ValueError(\"You must specify a target_return for this objective.\")\n",
    "            def objective_function(weights):\n",
    "                return self.get_var(weights)\n",
    "            constraints.append({'type': 'eq', 'fun': lambda w: self.get_return(w) - target_return})\n",
    "        elif objective == \"target_risk\":\n",
    "            if target_risk is None:\n",
    "                raise ValueError(\"You must specify a target_risk for this objective.\")\n",
    "            def objective_function(weights):\n",
    "                return abs(self.get_var(weights) - target_risk)\n",
    "        else:\n",
    "            raise ValueError(\"Invalid optimization objective.\")\n",
    "\n",
    "        #Optimize\n",
    "        result = minimize(objective_function, self.weights, constraints=constraints, bounds=bounds)\n",
    "        if result.success:\n",
    "            self.weights = result.x\n",
    "        return result"
   ]
  },
  {
   "cell_type": "markdown",
   "id": "5e3f2165-288a-4e3e-8d48-588fa926bf72",
   "metadata": {},
   "source": [
    "From here, we can import our portfolio's assets and their associated monthly returns. "
   ]
  },
  {
   "cell_type": "markdown",
   "id": "6d28e387-f401-414f-ad1c-3c8fd5c12868",
   "metadata": {},
   "source": [
    "A portfolio object can now be created. You can see the optimized output below based on a maximized Sharpe ratio objective:"
   ]
  },
  {
   "cell_type": "code",
   "execution_count": 4,
   "id": "50036d32",
   "metadata": {},
   "outputs": [
    {
     "name": "stdout",
     "output_type": "stream",
     "text": [
      "Fetching data for IVV...\n"
     ]
    },
    {
     "name": "stderr",
     "output_type": "stream",
     "text": [
      "[*********************100%***********************]  1 of 1 completed\n",
      "[*********************100%***********************]  1 of 1 completed\n"
     ]
    },
    {
     "name": "stdout",
     "output_type": "stream",
     "text": [
      "Fetching data for IXUS...\n",
      "Fetching data for IEMG...\n"
     ]
    },
    {
     "name": "stderr",
     "output_type": "stream",
     "text": [
      "[*********************100%***********************]  1 of 1 completed\n"
     ]
    },
    {
     "name": "stdout",
     "output_type": "stream",
     "text": [
      "Fetched Returns:\n",
      "Initial Portfolio Return: 0.67%\n",
      "Initial Portfolio Variance: 0.002996\n",
      "Optimized Weights: \n",
      "  IVV: 100.00%\n",
      "  IXUS: 0.00%\n",
      "  IEMG: 0.00%\n",
      "Optimized Portfolio Return: 1.13%\n",
      "Optimized Portfolio Variance: 0.003447\n"
     ]
    }
   ],
   "source": [
    "#Define tickers and date range\n",
    "tickers = [\"IVV\", \"IXUS\", \"IEMG\"]\n",
    "start_date = \"2020-01-01\"\n",
    "end_date = \"2023-12-31\"\n",
    "\n",
    "#Initialize dummy Portfolio object with placeholders\n",
    "dummy_returns = pd.DataFrame()  # Placeholder returns (will be replaced)\n",
    "dummy_weights = [1 / len(tickers)] * len(tickers)  # Equal weighting\n",
    "portfolio = Portfolio(dummy_returns, dummy_weights)\n",
    "\n",
    "#Fetch returns from Yahoo Finance\n",
    "try:\n",
    "    portfolio_returns = portfolio.get_returns_from_yfinance(tickers, start_date, end_date)\n",
    "    print(\"Fetched Returns:\")\n",
    "    # print(portfolio_returns.head())\n",
    "except ValueError as e:\n",
    "    print(e)\n",
    "    portfolio_returns = None\n",
    "\n",
    "#Create a new Portfolio object with fetched returns\n",
    "if portfolio_returns is not None:\n",
    "    weights = [1 / len(tickers)] * len(tickers)  \n",
    "    portfolio = Portfolio(portfolio_returns, weights)\n",
    "\n",
    "    # Initial Portfolio Stats\n",
    "    initial_return = portfolio.get_return() * 100\n",
    "    initial_variance = portfolio.get_var()  \n",
    "    print(f\"Initial Portfolio Return: {initial_return:.2f}%\")\n",
    "    print(f\"Initial Portfolio Variance: {initial_variance:.6f}\")\n",
    "\n",
    "    # Optimization Output\n",
    "    optimized_result = portfolio.optimize(objective=\"sharpe\")\n",
    "    print(\"Optimized Weights: \")\n",
    "    for ticker, weight in zip(tickers, optimized_result.x):\n",
    "        print(f\"  {ticker}: {weight * 100:.2f}%\")\n",
    "    \n",
    "    optimized_return = portfolio.get_return(optimized_result.x) * 100\n",
    "    optimized_variance = portfolio.get_var(optimized_result.x)  # Variance in raw terms\n",
    "    print(f\"Optimized Portfolio Return: {optimized_return:.2f}%\")\n",
    "    print(f\"Optimized Portfolio Variance: {optimized_variance:.6f}\")"
   ]
  },
  {
   "cell_type": "code",
   "execution_count": null,
   "id": "348b431c-1f60-4d5c-a30b-36d424b2c821",
   "metadata": {},
   "outputs": [],
   "source": []
  },
  {
   "cell_type": "markdown",
   "id": "b9aec815-d3a0-4118-9f98-3ea7e2f24b58",
   "metadata": {},
   "source": [
    "Thank you for viewing this portfolio project!"
   ]
  }
 ],
 "metadata": {
  "kernelspec": {
   "display_name": "Python 3 (ipykernel)",
   "language": "python",
   "name": "python3"
  },
  "language_info": {
   "codemirror_mode": {
    "name": "ipython",
    "version": 3
   },
   "file_extension": ".py",
   "mimetype": "text/x-python",
   "name": "python",
   "nbconvert_exporter": "python",
   "pygments_lexer": "ipython3",
   "version": "3.12.8"
  }
 },
 "nbformat": 4,
 "nbformat_minor": 5
}
